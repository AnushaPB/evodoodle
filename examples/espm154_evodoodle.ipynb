{
 "cells": [
  {
   "cell_type": "markdown",
   "metadata": {},
   "source": [
    "# Evolutionary simulations with Evodoodle\n",
    "\n",
    "Today, you will build on your experiences running evolutionary simulations with Geonomics to run simulations across your own custom landscapes. To do this, we will be using a python package called Evodoodle which will allow us to draw landscapes and then simulate evolution across them. Under the hood, Evodoodle uses Geonomics to run these simulations, so a lot of what you will see in this lab will be similar to our Geonomics labs. The key difference is that we will be able to control the configuration of the landscapes that drive population size, connectivity and local adaptation. This gives us the power to explore how the forces of evolution act across different landscape configurations.\n",
    "\n",
    "## Helpful Reminders:\n",
    "\n",
    "### Text cells\n",
    "In a notebook, each rectangle containing text or code is called a cell.\n",
    "\n",
    "Text cells (like this one) can be edited by double-clicking on them. They're written in a simple format called Markdown to add formatting and section headings. You don't need to learn Markdown, but you might want to.\n",
    "\n",
    "After you edit a text cell, click the \"run cell\" button at the top to confirm any changes. (Try not to delete the instructions of the lab.)\n",
    "\n",
    "### Code cells\n",
    "Other cells contain code in the Python 3 language. Running a code cell will execute all of the code it contains.\n",
    "\n",
    "To run the code in a code cell, first click on that cell to activate it. It'll be highlighted with a little green or blue rectangle. Next, either press the Run button or hold down the shift key and press return or enter.\n",
    "\n",
    "### Creating and deleting cells\n",
    "To create a new code cell, click on the cell (but not inside it) and then type \"b\" to create a cell below and \"a\" to create a cell above. To delete a code cell, click on the cell and then type \"dd\". To change the cell to markdown, click on the cell and type \"m\" and to change it to a code cell type \"Y\" (Shift + Y).\n",
    "\n",
    "### Comments\n",
    "Comments are statements in English that the computer ignores. We use comments to explain what the surrounding code does. Comments appear after the # symbol."
   ]
  },
  {
   "cell_type": "markdown",
   "metadata": {},
   "source": [
    "# Import packages\n",
    "Run the following cell to bring in the necessary Python packages for our exercise today. Recall that you need to run this cell and any cells above the one you are working on each time you relaunch the notebook."
   ]
  },
  {
   "cell_type": "code",
   "execution_count": null,
   "metadata": {},
   "outputs": [],
   "source": [
    "import matplotlib.pyplot as plt\n",
    "import numpy as np\n",
    "import seaborn as sns \n",
    "import geonomics as gnx\n",
    "import evodoodle as evo"
   ]
  },
  {
   "cell_type": "markdown",
   "metadata": {},
   "source": [
    "# Set-up interactive display for GitHub codespaces\n",
    "\n",
    "**BEFORE YOU START: Evodoodle requires an interactive display for drawing which takes a few simple steps to set-up on GitHub codespaces.** We have a virtual desktop which you can acccess by:\n",
    "1. Clicking the `Ports` tab at the bottom of the screen in codespaces\n",
    "2. Find the `desktop (6080)` port in the list (it should be the first one)\n",
    "3. Click `Open in Browser` in the `Forwarded Address` column for `desktop (6080)` (click the button that looks like a globe next to the link or `Ctrl + click` the link). \n",
    "4. This will open a new tab with the interactive display called noVNC. To start the display click Connect. The screen will initially appear blank, but when you run the code to draw a landscape (i.e., run `evo.draw_landscape()`) the landscape will appear in the noVNC display tab. Once you have drawn your landscape, click SAVE and the code will continue in your codespace tab."
   ]
  },
  {
   "cell_type": "markdown",
   "metadata": {},
   "source": [
    "# Part 1: Introduction to Evodoodle\n",
    "\n",
    "Evodoodle allows us to \"doodle\" our own landscapes using an interactive window. Whenever `evo.draw_landscape()` is run a pop-up will appear that allows you to draw on a landscape by clicking on the cells of the landscape. Once you have drawn your landscape, click the SAVE button and the code will continue.\n",
    "\n",
    "Evodoodle allows us to control three different landscapes for our simulations:\n",
    "\n",
    "1. **Carrying capacity** - this landscape controls the number of individuals that each landscape cell can support. This landscape is particularly useful for creating barriers by drawing areas that have a carrying capacity of zero.\n",
    "\n",
    "2. **Connectivity** - this landscape controls how easily individuals can move through each cell.\n",
    "\n",
    "3. **Environment** - this landscape defines the environmental gradient that our species will adapt to. The species has a single trait that is selected upon based on this environmental layer.\n",
    "\n",
    "*By default all three of these landscapes have a uniform value of one; you can leave these landscapes as the default if you want to experiment with modifying just one or two landscapes at a time.* **You do not need to customize every landscape in your simulations and you often will not want to.**"
   ]
  },
  {
   "cell_type": "markdown",
   "metadata": {},
   "source": [
    "### 1. Draw your landscape"
   ]
  },
  {
   "cell_type": "markdown",
   "metadata": {},
   "source": [
    "Try it out for yourselves! Doodle some landscapes by running the code chunks below. Remember that if you are using the GitHub codespace you will need to go to the noVNC tab to draw on and save your landscape. Also note that you can potentially drive your species extinct if carrying capacity is too low across the landscape, so if your simulation fails, try running it again with a different carrying capacity configuration."
   ]
  },
  {
   "cell_type": "code",
   "execution_count": null,
   "metadata": {},
   "outputs": [],
   "source": [
    "\n",
    "# Draw your landscape carrying capacity\n",
    "# When you run this chunk a pop-up will appear where you can draw on your own landscape\n",
    "# Note: d sets the dimensions of your square landscape in terms of the number of cells\n",
    "carrying_capacity = evo.draw_landscape(d = 10)"
   ]
  },
  {
   "cell_type": "code",
   "execution_count": null,
   "metadata": {},
   "outputs": [],
   "source": [
    "# Draw your landscape connectivity\n",
    "connectivity = evo.draw_landscape(d = 10)"
   ]
  },
  {
   "cell_type": "code",
   "execution_count": null,
   "metadata": {},
   "outputs": [],
   "source": [
    "\n",
    "# Draw your environment for local adaptation\n",
    "environment = evo.draw_landscape(d = 10)\n"
   ]
  },
  {
   "cell_type": "code",
   "execution_count": null,
   "metadata": {},
   "outputs": [],
   "source": [
    "%matplotlib inline\n",
    "# You can plot all your landscapes using plot_landscapes()\n",
    "evo.plot_landscapes(carrying_capacity, connectivity, environment)"
   ]
  },
  {
   "cell_type": "code",
   "execution_count": 6,
   "metadata": {},
   "outputs": [],
   "source": [
    "# If you want to change something, you can edit your landscapes using the edit_landscape() function (uncomment the lines below if you want to any of your landscapes)\n",
    "# carrying_capacity = evo.edit_landscape(carrying_capacity)\n",
    "# connectivity = evo.edit_landscape(connectivity)\n",
    "# environment = evo.edit_landscape(environment)"
   ]
  },
  {
   "cell_type": "markdown",
   "metadata": {},
   "source": [
    "### 2. Simulate evolution across your landscape"
   ]
  },
  {
   "cell_type": "markdown",
   "metadata": {},
   "source": [
    "Now that you have your custom landscapes, you can simulate evolution across them!"
   ]
  },
  {
   "cell_type": "code",
   "execution_count": null,
   "metadata": {},
   "outputs": [],
   "source": [
    "\n",
    "# Evodoodle comes with an example parameters dictionary which we will use for our simulations today:\n",
    "params = evo.example_params()\n",
    "# Initialize our model\n",
    "mod = evo.init_mod(params, carrying_capacity, connectivity, environment)\n"
   ]
  },
  {
   "cell_type": "markdown",
   "metadata": {},
   "source": [
    "Evodoodle has a special function for plotting our simulations called `plot_popgen()`.  This function produces four plots.\n",
    "\n",
    "1. **PCA plot in PCA space** - this plot shows each individual plotted in genetic PC space. The closer individuals are together in PC space, the more similar they are. They also are colored based on the PCs to help in interpretation of the PCA map (Plot 2); more similar the colors = more genetically similar individuals.\n",
    "\n",
    "2. **PCA plot in landscape space** - this plot shows each individual plotted across the landscape, colored based on the genetic PCs; more similar the colors = more genetically similar individuals. By default, the \"background\" of this plot is the carrying capacity landscape, however this background is just for visualization purposes and could theoretically be set to any of the three layers (i.e., carrying capacity, connectivity, or environment).\n",
    "\n",
    "3. **Heterozygosity plot** - this plot shows each individual plotted across the landscape, colored based on their heterozygosity. This allows us to see how genetic diversity varies across space. The background of this plot is the connectivity landscape, however this background is just for visualization purposes and could theoretically be set to any of the three layers (i.e., carrying capacity, connectivity, or environment).\n",
    "\n",
    "4. **Phenotype-environment plot** - this plot shows each individual plotted across the landscape, colored based on their phenotype. The background is the environmental layer driving selection on this phenotype. Matching between the individual's color and the background color indicates that local adaptation is occurring."
   ]
  },
  {
   "cell_type": "code",
   "execution_count": null,
   "metadata": {},
   "outputs": [],
   "source": [
    "# Plot initial model (no selection has occurred yet)\n",
    "evo.plot_popgen(mod)"
   ]
  },
  {
   "cell_type": "code",
   "execution_count": null,
   "metadata": {},
   "outputs": [],
   "source": [
    "# Run the model for 100 steps\n",
    "mod.walk(100)"
   ]
  },
  {
   "cell_type": "code",
   "execution_count": null,
   "metadata": {},
   "outputs": [],
   "source": [
    "\n",
    "# Plot the results\n",
    "evo.plot_popgen(mod)"
   ]
  },
  {
   "cell_type": "code",
   "execution_count": null,
   "metadata": {},
   "outputs": [],
   "source": [
    "\n",
    "# Run the model for another 100 steps\n",
    "mod.walk(100)"
   ]
  },
  {
   "cell_type": "code",
   "execution_count": null,
   "metadata": {},
   "outputs": [],
   "source": [
    "\n",
    "evo.plot_popgen(mod)"
   ]
  },
  {
   "cell_type": "markdown",
   "metadata": {},
   "source": [
    "# Part 2: Answering real-world questions with Evodoodle\n",
    "\n",
    "Now that you have played around with Evodoodle, let's apply it to answering some evolutionary and conservation questions. You will have to decide how you want to design your landscapes to answer the question at hand. We will walk through the first exercise together. Remember our hypothesis testing framework from last time:\n",
    "\n",
    "If we [**change our landscape**], then [**outcome with evidence**] because [**justification**]\n",
    "\n",
    "For each simulation, think about what your hypothesis is and how you will evaluate it based on your results.\n",
    "\n",
    "**As you run your simulations, consider some of the advantages and limitations of these types of simplified representations of real-world processes.** How are your landscapes similar/different from real landscapes? What other variables would you need to consider in your decision making process? How might your findings be misinterpreted and what might the consequences be? What kind of empirical data would you want to collect to evaluate the findings of your simulations?\n",
    "\n",
    "### Simulation tips\n",
    "\n",
    "1. You do not have to customize every landscape (e.g. population size, connectivity, and environment), often you may want to just change one landscape and leave the rest uniform.\n",
    "\n",
    "2. To evaluate your results you should consider both neutral and adaptive processes (though sometimes only one will apply). Remember that you can use your PCA plots to assess genetic differentiation, your phenotype-environment plots to assess local adaptation, and your heterozygosity plots to assess genetic diversity.\n",
    "\n",
    "3. If you are interested in changes in heterozygosity, you may need to run your simulations for a longer period of time (300-500 generations or more)."
   ]
  },
  {
   "cell_type": "markdown",
   "metadata": {},
   "source": [
    "### Coding tips\n",
    "\n",
    "Most of the code for these exercises is provided for you or requires minimal editing or copy-pasting. However, you may find it helpful to edit the code below and make use of the following functions: "
   ]
  },
  {
   "cell_type": "markdown",
   "metadata": {},
   "source": [
    "\n",
    "1. `evo.draw_landscape()` - make a new landscape. d sets the dimensions of your square landscape in terms of the number of cells.\n",
    "\n",
    "    Example: \n",
    "    ```python\n",
    "    new_landscape = evo.draw_landscape(d = 10)\n",
    "    ```\n",
    "\n",
    "2. `evo.edit_landscape()` - edit an existing landscape. This can be helpful for when you want to run two simulations and modify your first set of landscapes while keep some things the same. \n",
    "\n",
    "    Example: \n",
    "    ```python\n",
    "    edited_landscape = evo.edit_landscape(new_landscape)\n",
    "    ```\n",
    "\n",
    "You can also copy landscapes. For example, let's say you want carrying capacity and connectivity to be the same:\n",
    "```python\n",
    "population_size = evo.draw_landscape(d = 10)\n",
    "population_size = carrying_capacity\n",
    "```"
   ]
  },
  {
   "cell_type": "markdown",
   "metadata": {},
   "source": [
    "**The names of the landscapes you create don't matter, but the order when you put them into `evo.init_mod()` does.** The arguments must always be in the order: params, carrying_capacity, connectivity, environment, population_size:\n",
    "\n",
    "```python\n",
    "evo.init_mod(params, carrying_capacity, connectivity, environment)\n",
    "```\n",
    "\n",
    "You can also set them like normal arguments by specifying which landscape is which, in which case order doesn't matter.\n",
    "\n",
    "```python\n",
    "evo.init_mod(params = your_params, carrying_capacity = your_landscape1, connectivity = your_landscape2, environment = your_landscape3)"
   ]
  },
  {
   "cell_type": "markdown",
   "metadata": {},
   "source": [
    "\n",
    "## Exercise 1: Evaluating the effectiveness of a wildlife corridors\n",
    "\n",
    "Wildlife corridors are a popular method for restoring connectivity between areas fragmented by human development, such as roads. In our previous lab, we used simulations to show how a barrier can result in population divergence. Let's test to see the effect of building a barrier, but including a corridor across it that individuals can pass through.\n",
    "\n",
    "To test this question we will run three simulations: \n",
    "1. A simulation with no barrier\n",
    "2. A simulation with a barrier and no corridor\n",
    "3. A simulation with a barrier and with a corridor\n",
    "\n",
    "For these simulations, we will keep our environment uniform (i.e., no selection)."
   ]
  },
  {
   "cell_type": "code",
   "execution_count": 9,
   "metadata": {},
   "outputs": [],
   "source": [
    "# I am creating a uniform landscape that we will use for our connectivity and environment landscapes\n",
    "uniform_landscape = np.ones((10,10))\n",
    "environment = uniform_landscape\n",
    "connectivity = uniform_landscape\n",
    "# We will also use a uniform landscape for carrying capacity for our first simulation, but we will change it later\n",
    "carrying_capacity = uniform_landscape"
   ]
  },
  {
   "cell_type": "markdown",
   "metadata": {},
   "source": [
    "First, let's run our null simulation with no barrier or corridor:"
   ]
  },
  {
   "cell_type": "code",
   "execution_count": null,
   "metadata": {},
   "outputs": [],
   "source": [
    "# Initialize and run our model\n",
    "mod1 = evo.init_mod(params, carrying_capacity, connectivity, environment)\n",
    "mod1.walk(200)\n",
    "evo.plot_popgen(mod1)"
   ]
  },
  {
   "cell_type": "markdown",
   "metadata": {},
   "source": [
    "Now, create your carrying capacity landscape with a barrier by creating a line of zero value cells dividing the landscape. How you draw this barrier is up to you."
   ]
  },
  {
   "cell_type": "code",
   "execution_count": null,
   "metadata": {},
   "outputs": [],
   "source": [
    "# Create our carrying capacity barrier landscape\n",
    "carrying_capacity_barrier = evo.draw_landscape(d = 10)"
   ]
  },
  {
   "cell_type": "code",
   "execution_count": null,
   "metadata": {},
   "outputs": [],
   "source": [
    "# Initialize and run our model\n",
    "mod2 = evo.init_mod(params, carrying_capacity_barrier, connectivity, environment)\n",
    "mod2.walk(200)\n",
    "evo.plot_popgen(mod2)"
   ]
  },
  {
   "cell_type": "markdown",
   "metadata": {},
   "source": [
    "Next, let's edit our barrier landscape to include a corridor. To create a corridor, replace a part of your zeros barrier with ones. You may want to try multiple corridor widths and see how that affects your results."
   ]
  },
  {
   "cell_type": "code",
   "execution_count": null,
   "metadata": {},
   "outputs": [],
   "source": [
    "carrying_capacity_corridor = evo.edit_landscape(carrying_capacity_barrier)"
   ]
  },
  {
   "cell_type": "code",
   "execution_count": null,
   "metadata": {},
   "outputs": [],
   "source": [
    "# Initialize and run our model\n",
    "mod3 = evo.init_mod(params, carrying_capacity_corridor, connectivity, environment)\n",
    "mod3.walk(200)\n",
    "evo.plot_popgen(mod3)"
   ]
  },
  {
   "cell_type": "markdown",
   "metadata": {},
   "source": [
    "Let's recreate our plots below for ease of comparison between our three scenarios:"
   ]
  },
  {
   "cell_type": "code",
   "execution_count": null,
   "metadata": {},
   "outputs": [],
   "source": [
    "# No barrier\n",
    "evo.plot_popgen(mod1)\n",
    "# Barrier, no corridor\n",
    "evo.plot_popgen(mod2)\n",
    "# Barrier and corridor\n",
    "evo.plot_popgen(mod3)"
   ]
  },
  {
   "cell_type": "markdown",
   "metadata": {},
   "source": [
    "**Use your results from above to answer Question 1**"
   ]
  },
  {
   "cell_type": "markdown",
   "metadata": {},
   "source": [
    "## Exercise 2: Optimizing land preservation for conservation\n",
    "\n",
    "You are consulting with a conservation organization that has funds to buy a fixed number of acres of land and is trying to decide whether to build (Option 1) a large, connected, single preserve or (Option 2) several, smaller, disconnected preserves. Design a simulation to help them explore their decision.\n",
    "\n",
    "How you design the landscapes for the simulation is up to you, but here are some suggestions:\n",
    "\n",
    "1. Consider what you are interested in: minimizing drift? conserving phenotypic diversity? maximizing genetic diversity? If you want to keep things simple, you can focus on one of these things for your simulations. Note that if you are interested in genetic diversity, you may need to increase the model walk times to 300-500 steps.\n",
    "\n",
    "2. Remember that they have a fixed amount of land they can buy; make sure that the total area preserved when simulating either option is the same (i.e., your small preserves should have the same summed area as your large preserve). For example, you could aim to preserve 36 cells total in both simulations and just change the arrangement of those 36 cells.\n",
    "\n",
    "3. If you make your preserved areas too small, you may end up with extinction; this will appear as an error when running your simulations. You can describe this extinction event as a result.\n",
    "\n",
    "4. To make things simpler, you may want to keep your preserves rectangular (i.e., not irregularly shaped)\n",
    "\n",
    "The code we have provided for you below assumes you are running two simulations; however, you can run as many simulations as you would like by copy and pasting the code chunks.\n"
   ]
  },
  {
   "cell_type": "code",
   "execution_count": null,
   "metadata": {},
   "outputs": [],
   "source": [
    "# Doodle your landscapes\n",
    "carrying_capacity1 = evo.draw_landscape(d = 10)"
   ]
  },
  {
   "cell_type": "code",
   "execution_count": null,
   "metadata": {},
   "outputs": [],
   "source": [
    "connectivity1 = evo.draw_landscape(d = 10)"
   ]
  },
  {
   "cell_type": "code",
   "execution_count": null,
   "metadata": {},
   "outputs": [],
   "source": [
    "environment1 = evo.draw_landscape(d = 10)"
   ]
  },
  {
   "cell_type": "code",
   "execution_count": null,
   "metadata": {},
   "outputs": [],
   "source": [
    "# Plot your landscapes\n",
    "evo.plot_landscapes(carrying_capacity1, connectivity1, environment1)"
   ]
  },
  {
   "cell_type": "code",
   "execution_count": null,
   "metadata": {},
   "outputs": [],
   "source": [
    "# Run the model with your landscapes\n",
    "mod1 = evo.init_mod(params, carrying_capacity1, connectivity1, environment1)\n",
    "# You can run the model for as many steps as you want by changing the argument in walk() from 200 to any other number\n",
    "mod1.walk(200)\n",
    "# Plot the results\n",
    "evo.plot_popgen(mod1)"
   ]
  },
  {
   "cell_type": "markdown",
   "metadata": {},
   "source": [
    "Now, run your second simulation (if you want to run another one after this, copy and paste the code below):"
   ]
  },
  {
   "cell_type": "code",
   "execution_count": null,
   "metadata": {},
   "outputs": [],
   "source": [
    "# Doodle your second set of landscapes (if you want to keep your landscapes the same as before, you can just click SAVE without editing the landscape)\n",
    "carrying_capacity2 = evo.edit_landscape(carrying_capacity1)"
   ]
  },
  {
   "cell_type": "code",
   "execution_count": null,
   "metadata": {},
   "outputs": [],
   "source": [
    "connectivity2 = evo.edit_landscape(connectivity1)"
   ]
  },
  {
   "cell_type": "code",
   "execution_count": null,
   "metadata": {},
   "outputs": [],
   "source": [
    "environment2 = evo.edit_landscape(environment1)"
   ]
  },
  {
   "cell_type": "code",
   "execution_count": null,
   "metadata": {},
   "outputs": [],
   "source": [
    "# Plot your landscapes\n",
    "evo.plot_landscapes(carrying_capacity2, connectivity2, environment2)"
   ]
  },
  {
   "cell_type": "code",
   "execution_count": null,
   "metadata": {},
   "outputs": [],
   "source": [
    "# Run the model with your landscapes\n",
    "mod2 = evo.init_mod(params, carrying_capacity2, connectivity2, environment2)\n",
    "# You can run the model for as many steps as you want by changing the argument in walk() from 200 to any other number\n",
    "mod2.walk(200)\n",
    "# Plot the results\n",
    "evo.plot_popgen(mod2)"
   ]
  },
  {
   "cell_type": "code",
   "execution_count": null,
   "metadata": {},
   "outputs": [],
   "source": [
    "# Let's plot our results together to make it easier to compare\n",
    "evo.plot_popgen(mod1)\n",
    "evo.plot_popgen(mod2)"
   ]
  },
  {
   "cell_type": "markdown",
   "metadata": {},
   "source": [
    "**Use your results to answer Question 2**"
   ]
  },
  {
   "cell_type": "markdown",
   "metadata": {},
   "source": [
    "# Exercise 3: Optimizing land use for conservation\n",
    "\n",
    "Now you are working for a logging company that is trying to figure out how to log a parcel of land while minimizing damage to a local elk population using the landscape. They need help deciding whether it is better for them to selectively remove trees evenly across the landscape or in one clear-cut area. Obviously, the amount of habitat affected matters a lot when answering a question like this, so to keep things simple let's imagine you need to log 20 cells of habitat from your 10 cell x 10 cell landscape (i.e., 20% of the habitat). If you have time, you can also test removing a larger number of cells of habitat (i.e., 60% of the habitat).\n",
    "\n",
    "To make this a little more interesting, you have to decide for yourself what the affect of logging is on a cell of habitat. For example, it could be that a cell that is logged has a carrying capacity of zero, half the carrying capacity, half the connectivity, etc., or some combination of those. You can also decide whether local adaptation is occurring or not. Hint: If you want to use the same landscapes for carrying capacity and connectivity look at the code example above for how to copy and edit an existing landscape. \n",
    "\n",
    "The code we have provided for you below assumes you are running two simulations; however, you can run as many simulations as you would like by copy and pasting the code chunks below and you may want to edit them based on the code examples provided above.\n"
   ]
  },
  {
   "cell_type": "code",
   "execution_count": null,
   "metadata": {},
   "outputs": [],
   "source": [
    "# Doodle your landscapes\n",
    "carrying_capacity3 = evo.draw_landscape(d = 10)"
   ]
  },
  {
   "cell_type": "code",
   "execution_count": null,
   "metadata": {},
   "outputs": [],
   "source": [
    "connectivity3 = evo.draw_landscape(d = 10)"
   ]
  },
  {
   "cell_type": "code",
   "execution_count": null,
   "metadata": {},
   "outputs": [],
   "source": [
    "environment3 = evo.draw_landscape(d = 10)"
   ]
  },
  {
   "cell_type": "code",
   "execution_count": null,
   "metadata": {},
   "outputs": [],
   "source": [
    "# Plot your landscapes\n",
    "evo.plot_landscapes(carrying_capacity3, connectivity3, environment3)"
   ]
  },
  {
   "cell_type": "code",
   "execution_count": null,
   "metadata": {},
   "outputs": [],
   "source": [
    "# Run the model with your landscapes\n",
    "mod3 = evo.init_mod(params, carrying_capacity3, connectivity3, environment3)\n",
    "# You can run the model for as many steps as you want by changing the argument in walk() from 200 to any other number\n",
    "mod3.walk(200)\n",
    "# Plot the results\n",
    "evo.plot_popgen(mod3)"
   ]
  },
  {
   "cell_type": "markdown",
   "metadata": {},
   "source": [
    "Now, run your second simulation (if you want to run another one after this, copy and paste the code below):"
   ]
  },
  {
   "cell_type": "code",
   "execution_count": null,
   "metadata": {},
   "outputs": [],
   "source": [
    "# Doodle your second set of landscapes (if you want to keep your landscapes the same as before, you can just click SAVE without editing the landscape). If you want to draw a completely new landscape change edit_landscape() to draw_landscape()\n",
    "carrying_capacity4 = evo.edit_landscape(carrying_capacity3)"
   ]
  },
  {
   "cell_type": "code",
   "execution_count": null,
   "metadata": {},
   "outputs": [],
   "source": [
    "connectivity4 = evo.edit_landscape(connectivity3)"
   ]
  },
  {
   "cell_type": "code",
   "execution_count": null,
   "metadata": {},
   "outputs": [],
   "source": [
    "environment4 = evo.edit_landscape(environment3)"
   ]
  },
  {
   "cell_type": "code",
   "execution_count": null,
   "metadata": {},
   "outputs": [],
   "source": [
    "# Plot your landscapes\n",
    "evo.plot_landscapes(carrying_capacity4, connectivity4, environment4)"
   ]
  },
  {
   "cell_type": "code",
   "execution_count": null,
   "metadata": {},
   "outputs": [],
   "source": [
    "# Run the model with your landscapes\n",
    "mod4 = evo.init_mod(params, carrying_capacity4, connectivity4, environment4)\n",
    "# You can run the model for as many steps as you want by changing the argument in walk() from 200 to any other number\n",
    "mod4.walk(200)\n",
    "# Plot the results\n",
    "evo.plot_popgen(mod4)"
   ]
  },
  {
   "cell_type": "code",
   "execution_count": null,
   "metadata": {},
   "outputs": [],
   "source": [
    "# Plot your results side-by-side\n",
    "evo.plot_popgen(mod3)\n",
    "evo.plot_popgen(mod4)"
   ]
  },
  {
   "cell_type": "markdown",
   "metadata": {},
   "source": [
    "**Use the results above to answer Question 3**"
   ]
  },
  {
   "cell_type": "markdown",
   "metadata": {},
   "source": [
    "# Exercise 4: Changing species parameters\n",
    "\n",
    "So far, we have only used the evodoodle default simulation parameters; this means that for all of our simulations, we have used the same underlying species parameters (e.g., selection strength, mating radius, etc.). Pick one of the Exercise scenarios above and test the effect of changing one of the following parameters. Make sure to write down your hypothesis before you run your simulation:\n",
    "\n",
    "<b>Parameters to tweak</b>:\n",
    "- ***phi***: *This controls the strength of selection on the trait. It can be set to 0 <= value <= 1.*\n",
    "\n",
    "- ***n_loci***: *This controls the number of genetic loci underlying the trait's phenotype. For this simulation, it can be set to 1 <= value <= 100.* (Remember, most traits are not controlled by a single gene, so this can be an important factor in the real world)\n",
    "\n",
    "- ***K_factor***: *This controls the population density, by setting the number of individuals that can inhabit each cell. It can be set to any value > 0, technically, but values larger than 3 or 4 will probably require too much memory to run on this server, so be careful!*  Higher and lower population density can have a number of impacts- like ability to find mates, availability of resources, etc.  Founder effects are hugely important here as well.\n",
    "\n",
    "- ***movement_distance_distr_param_1***: *This controls the average distance that an individual moves each time step (in units of cell-widths), and thus how mobile the species is. For this simulation, it can be set to any value > 0 (but very large values might cause problems!).*\n",
    "\n",
    "- ***mating_radius***: *This controls the radius (expressed in cell-width units) within which an indivudal can choose a mate. For this simulation, it can be set to any value > 0.*\n",
    "</div>"
   ]
  },
  {
   "cell_type": "code",
   "execution_count": null,
   "metadata": {},
   "outputs": [],
   "source": [
    "# to change selection strength (phi), change 0.05 to any value between 0 and 1\n",
    "params['comm']['species']['spp_0']['gen_arch']['traits']['trait_0']['phi'] = 0.05\n",
    "# to change the number of loci (n_loci), change 1 to any value between 1 and 100\n",
    "params['comm']['species']['spp_0']['gen_arch']['traits']['trait_0']['n_loci'] = 1\n",
    "# to change the carrying capacity factor (K), change 1 to any value greater than 0\n",
    "params['comm']['species']['spp_0']['init']['K_factor'] = 1\n",
    "# to change the mean movement distance (movement_distance_distr_param1), change 0.5 to any value greater than 0\n",
    "params['comm']['species']['spp_0']['movement']['movement_distance_distr_param1'] = 0.5\n",
    "# to change the mating radius (mating_radius), change 10 to any value greater than 0\n",
    "params['comm']['species']['spp_0']['mating']['mating_radius'] = 10"
   ]
  },
  {
   "cell_type": "code",
   "execution_count": null,
   "metadata": {},
   "outputs": [],
   "source": [
    "# Doodle your landscapes\n",
    "carrying_capacity5 = evo.draw_landscape(d = 10)"
   ]
  },
  {
   "cell_type": "code",
   "execution_count": null,
   "metadata": {},
   "outputs": [],
   "source": [
    "connectivity5 = evo.draw_landscape(d = 10)"
   ]
  },
  {
   "cell_type": "code",
   "execution_count": null,
   "metadata": {},
   "outputs": [],
   "source": [
    "environment5 = evo.draw_landscape(d = 10)"
   ]
  },
  {
   "cell_type": "code",
   "execution_count": null,
   "metadata": {},
   "outputs": [],
   "source": [
    "# Plot your landscapes\n",
    "evo.plot_landscapes(carrying_capacity5, connectivity5, environment5)"
   ]
  },
  {
   "cell_type": "code",
   "execution_count": null,
   "metadata": {},
   "outputs": [],
   "source": [
    "# Run the model with your landscapes\n",
    "mod5 = evo.init_mod(params, carrying_capacity5, connectivity5, environment5)\n",
    "# You can run the model for as many steps as you want by changing the argument in walk() from 200 to any other number\n",
    "mod5.walk(200)\n",
    "# Plot the results\n",
    "evo.plot_popgen(mod5)"
   ]
  },
  {
   "cell_type": "markdown",
   "metadata": {},
   "source": [
    "Now, run your second simulation (if you want to run another one after this, copy and paste the code below):"
   ]
  },
  {
   "cell_type": "code",
   "execution_count": null,
   "metadata": {},
   "outputs": [],
   "source": [
    "# Doodle your second set of landscapes (if you want to keep your landscapes the same as before, you can just click SAVE without editing the landscape). If you want to draw a completely new landscape change edit_landscape() to draw_landscape()\n",
    "carrying_capacity6 = evo.edit_landscape(carrying_capacity6)"
   ]
  },
  {
   "cell_type": "code",
   "execution_count": null,
   "metadata": {},
   "outputs": [],
   "source": [
    "connectivity6 = evo.edit_landscape(connectivity6)"
   ]
  },
  {
   "cell_type": "code",
   "execution_count": null,
   "metadata": {},
   "outputs": [],
   "source": [
    "environment6 = evo.edit_landscape(environment6)"
   ]
  },
  {
   "cell_type": "code",
   "execution_count": null,
   "metadata": {},
   "outputs": [],
   "source": [
    "# Plot your landscapes\n",
    "evo.plot_landscapes(carrying_capacity6, connectivity6, environment6)"
   ]
  },
  {
   "cell_type": "code",
   "execution_count": null,
   "metadata": {},
   "outputs": [],
   "source": [
    "# Run the model with your landscapes\n",
    "mod6 = evo.init_mod(params, carrying_capacity6, connectivity6, environment6)\n",
    "# You can run the model for as many steps as you want by changing the argument in walk() from 200 to any other number\n",
    "mod6.walk(200)\n",
    "# Plot the results\n",
    "evo.plot_popgen(mod6)"
   ]
  },
  {
   "cell_type": "code",
   "execution_count": null,
   "metadata": {},
   "outputs": [],
   "source": [
    "# Plot your results side-by-side\n",
    "evo.plot_popgen(mod5)\n",
    "evo.plot_popgen(mod6)"
   ]
  },
  {
   "cell_type": "markdown",
   "metadata": {},
   "source": [
    "This notebook was developed by Anusha Bishop (2024)"
   ]
  }
 ],
 "metadata": {
  "kernelspec": {
   "display_name": "Python 3",
   "language": "python",
   "name": "python3"
  },
  "language_info": {
   "codemirror_mode": {
    "name": "ipython",
    "version": 3
   },
   "file_extension": ".py",
   "mimetype": "text/x-python",
   "name": "python",
   "nbconvert_exporter": "python",
   "pygments_lexer": "ipython3",
   "version": "3.12.7"
  }
 },
 "nbformat": 4,
 "nbformat_minor": 2
}
