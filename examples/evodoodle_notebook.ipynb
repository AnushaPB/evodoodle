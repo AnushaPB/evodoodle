{
 "cells": [
  {
   "cell_type": "code",
   "execution_count": null,
   "metadata": {},
   "outputs": [],
   "source": [
    "import matplotlib.pyplot as plt\n",
    "import numpy as np\n",
    "import seaborn as sns \n",
    "import geonomics as gnx\n",
    "import evodoodle as evo"
   ]
  },
  {
   "cell_type": "markdown",
   "metadata": {},
   "source": [
    "### 1. Draw your own landscape"
   ]
  },
  {
   "cell_type": "code",
   "execution_count": null,
   "metadata": {},
   "outputs": [],
   "source": [
    "\n",
    "# Draw your landscape carrying capacity\n",
    "# When you run this chunk a pop-up will appear where you can draw on your own landscape\n",
    "# Note: d sets the dimensions of your square landscape in terms of the number of cells\n",
    "population_size = evo.draw_landscape(d = 10)"
   ]
  },
  {
   "cell_type": "code",
   "execution_count": null,
   "metadata": {},
   "outputs": [],
   "source": [
    "# Draw your landscape connectivity\n",
    "connectivity = evo.draw_landscape(d = 10)"
   ]
  },
  {
   "cell_type": "code",
   "execution_count": null,
   "metadata": {},
   "outputs": [],
   "source": [
    "\n",
    "# Draw your environment for local adaptation\n",
    "environment = evo.draw_landscape(d = 10)\n"
   ]
  },
  {
   "cell_type": "code",
   "execution_count": null,
   "metadata": {},
   "outputs": [],
   "source": [
    "%matplotlib inline\n",
    "# You can plot all your landscapes using plot_landscapes()\n",
    "evo.plot_landscapes(population_size, connectivity, environment)"
   ]
  },
  {
   "cell_type": "code",
   "execution_count": null,
   "metadata": {},
   "outputs": [],
   "source": [
    "# If you want to change something, you can edit your landscapes using the edit_landscape() function\n",
    "environment = evo.edit_landscape(environment)"
   ]
  },
  {
   "cell_type": "code",
   "execution_count": null,
   "metadata": {},
   "outputs": [],
   "source": [
    "\n",
    "# Finally, you can optionally save your landscapes\n",
    "np.savetxt('population_size.csv', population_size, delimiter=',')\n",
    "np.savetxt('connectivity.csv', connectivity, delimiter=',')\n",
    "np.savetxt('environment.csv', environment, delimiter=',')\n",
    "\n",
    "# Read in landscapes\n",
    "#population_size = np.loadtxt('population_size.csv', delimiter=',')\n",
    "#connectivity = np.loadtxt('connectivity.csv', delimiter=',')\n",
    "#environment = np.loadtxt('environment.csv', delimiter=',')"
   ]
  },
  {
   "cell_type": "markdown",
   "metadata": {},
   "source": [
    "### 2. Play out evolution across your landscape"
   ]
  },
  {
   "cell_type": "code",
   "execution_count": null,
   "metadata": {},
   "outputs": [],
   "source": [
    "# To define the parameters of our model for Geonomics we need to have a parameters dictionary\n",
    "# Evodoodle comes with an example parameters dictionary to start with:\n",
    "params = evo.example_params()\n",
    "\n",
    "# %%\n",
    "# You can also create your own Geonomics parameters file by running gnx.make_parameters_file()\n",
    "# Here we call this file \"example_parameters\" and it will automatically be saved to our working directory\n",
    "gnx.make_parameters_file(\"example_parameters\")\n",
    "# You can manually edit this file to change the simulation parameters, just note that the landscape layers will be overwritten when we create our custom landscapes, so best to leave that section of the parameters alone\n",
    "\n",
    "# You can then load your parameters python dictionary\n",
    "from example_parameters import params\n",
    "print(params)\n",
    "\n",
    "# But for now we will use the example parameters\n",
    "params = evo.example_params()"
   ]
  },
  {
   "cell_type": "code",
   "execution_count": null,
   "metadata": {},
   "outputs": [],
   "source": [
    "\n",
    "# Start model\n",
    "mod = evo.init_mod(params, population_size, connectivity, environment)\n"
   ]
  },
  {
   "cell_type": "code",
   "execution_count": null,
   "metadata": {},
   "outputs": [],
   "source": [
    "# Plot initial model (no selection has occurred yet)\n",
    "evo.plot_popgen(mod)"
   ]
  },
  {
   "cell_type": "code",
   "execution_count": null,
   "metadata": {},
   "outputs": [],
   "source": [
    "\n",
    "# Run the model for 100 timesteps\n",
    "mod.walk(100)"
   ]
  },
  {
   "cell_type": "code",
   "execution_count": null,
   "metadata": {},
   "outputs": [],
   "source": [
    "\n",
    "# Plot the results\n",
    "evo.plot_popgen(mod)"
   ]
  },
  {
   "cell_type": "code",
   "execution_count": null,
   "metadata": {},
   "outputs": [],
   "source": [
    "\n",
    "# Run the model for another 100 steps\n",
    "mod.walk(100)"
   ]
  },
  {
   "cell_type": "code",
   "execution_count": null,
   "metadata": {},
   "outputs": [],
   "source": [
    "\n",
    "evo.plot_popgen(mod)"
   ]
  },
  {
   "cell_type": "markdown",
   "metadata": {},
   "source": [
    "### Challenges"
   ]
  },
  {
   "cell_type": "markdown",
   "metadata": {},
   "source": [
    "1. You are consulting with a conservation organization that is trying to decide whether to build (Option 1) a large, connected, single preserve or (Option 2) several, smaller, disconnected preserves. Design a simulation (or a set of simulations) to help them make their decision. Bonus challenge: try and simulate one scenario where option (1) is best and one scenario where (2) is best (Hint: think about different things you might want to conserve)\n",
    "\n",
    "2. Wildlife corridors are a popular method for restoring connectivity between areas fragmented by human development, such as roads. Create a simulation (or a pair of simulations) that shows the effect of a wildlife corridor across a hypothetical road on genetic diversity. What happens if the corridor connects two very different environments?\n",
    "\n",
    "3. Your friend comes to you super excited because they just analyzed their landscape genetics data on hedgehogs and found a super clear gradient in PC values that aligns with a gradient in temperature. They tell you that they think this is an indication that hedgehogs are locally adapted to temperature. What do you think? Can you come up with a simulation to show your friend what else could be causing this pattern?\n",
    "\n",
    "\n",
    "4. So far, we have only used the evodoodle default simulation parameters; this means that for all of our simulations, we have used the same underlying species parameters (e.g., number of offspring, longevity, etc.). What are some species parameters that might be important to test? Pick one of the scenarios above and describe two parameters you might want to evaluate in your simulations. \n",
    "Some example parameters you might want to consider:\n",
    "- Movement/dispersal rates\n",
    "- Longevity (i.e., maximum age)\n",
    "- Number of offspring per mating event\n",
    "- Mutation rates\n",
    "- Selection strength\n",
    "- Mating radius\n",
    "- Mutation rates\n",
    "Explain why you picked these parameters and hypothesize what you might expect to see if you changed them. Your hypothesis does not have to be \"correct\", it just has to be testable and justified."
   ]
  },
  {
   "cell_type": "markdown",
   "metadata": {},
   "source": []
  }
 ],
 "metadata": {
  "kernelspec": {
   "display_name": "Python 3",
   "language": "python",
   "name": "python3"
  },
  "language_info": {
   "codemirror_mode": {
    "name": "ipython",
    "version": 3
   },
   "file_extension": ".py",
   "mimetype": "text/x-python",
   "name": "python",
   "nbconvert_exporter": "python",
   "pygments_lexer": "ipython3",
   "version": "3.9.1"
  }
 },
 "nbformat": 4,
 "nbformat_minor": 2
}
