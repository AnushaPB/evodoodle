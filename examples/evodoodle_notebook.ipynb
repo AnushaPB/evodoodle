{
 "cells": [
  {
   "cell_type": "code",
   "execution_count": null,
   "metadata": {},
   "outputs": [],
   "source": [
    "import matplotlib.pyplot as plt\n",
    "import numpy as np\n",
    "import seaborn as sns \n",
    "import geonomics as gnx\n",
    "import evodoodle as evo"
   ]
  },
  {
   "cell_type": "markdown",
   "metadata": {},
   "source": [
    "### 1. Draw your own landscape"
   ]
  },
  {
   "cell_type": "code",
   "execution_count": null,
   "metadata": {},
   "outputs": [],
   "source": [
    "\n",
    "# Draw your landscape carrying capacity\n",
    "# When you run this chunk a pop-up will appear where you can draw on your own landscape\n",
    "# Note: d sets the dimensions of your square landscape in terms of the number of cells\n",
    "population_size = evo.draw_landscape(d = 10)"
   ]
  },
  {
   "cell_type": "code",
   "execution_count": null,
   "metadata": {},
   "outputs": [],
   "source": [
    "# Draw your landscape connectivity\n",
    "connectivity = evo.draw_landscape(d = 10)"
   ]
  },
  {
   "cell_type": "code",
   "execution_count": null,
   "metadata": {},
   "outputs": [],
   "source": [
    "\n",
    "# Draw your environment for local adaptation\n",
    "environment = evo.draw_landscape(d = 10)\n"
   ]
  },
  {
   "cell_type": "code",
   "execution_count": null,
   "metadata": {},
   "outputs": [],
   "source": [
    "%matplotlib inline\n",
    "# You can plot all your landscapes using plot_landscapes()\n",
    "evo.plot_landscapes(population_size, connectivity, environment)"
   ]
  },
  {
   "cell_type": "code",
   "execution_count": null,
   "metadata": {},
   "outputs": [],
   "source": [
    "# If you want to change something, you can edit your landscapes using the edit_landscape() function (uncomment the line below)\n",
    "# environment = evo.edit_landscape(environment)"
   ]
  },
  {
   "cell_type": "code",
   "execution_count": null,
   "metadata": {},
   "outputs": [],
   "source": [
    "\n",
    "# Finally, you can optionally save your landscapes\n",
    "np.savetxt('population_size.csv', population_size, delimiter=',')\n",
    "np.savetxt('connectivity.csv', connectivity, delimiter=',')\n",
    "np.savetxt('environment.csv', environment, delimiter=',')\n",
    "\n",
    "# Uncomment these lines to read in landscapes\n",
    "#population_size = np.loadtxt('population_size.csv', delimiter=',')\n",
    "#connectivity = np.loadtxt('connectivity.csv', delimiter=',')\n",
    "#environment = np.loadtxt('environment.csv', delimiter=',')"
   ]
  },
  {
   "cell_type": "markdown",
   "metadata": {},
   "source": [
    "### 2. Play out evolution across your landscape"
   ]
  },
  {
   "cell_type": "code",
   "execution_count": null,
   "metadata": {},
   "outputs": [],
   "source": [
    "# To define the parameters of our model for Geonomics we need to have a parameters dictionary\n",
    "# Evodoodle comes with an example parameters dictionary to start with:\n",
    "params = evo.example_params()"
   ]
  },
  {
   "cell_type": "code",
   "execution_count": null,
   "metadata": {},
   "outputs": [],
   "source": [
    "# You can also create your own Geonomics parameters file by running gnx.make_parameters_file()\n",
    "# Here we call this file \"example_parameters\" and it will automatically be saved to our working directory\n",
    "gnx.make_parameters_file(\"example_parameters\")\n",
    "# You can manually edit this file to change the simulation parameters, just note that the landscape layers will be overwritten when we create our custom landscapes, so best to leave that section, and any other section related to the landscape, alone\n",
    "\n",
    "# You can then load your parameters python dictionary\n",
    "from example_parameters import params\n",
    "print(params)\n",
    "\n",
    "# But for now we will use the example parameters\n",
    "params = evo.example_params()"
   ]
  },
  {
   "cell_type": "code",
   "execution_count": null,
   "metadata": {},
   "outputs": [],
   "source": [
    "\n",
    "# Start model\n",
    "mod = evo.init_mod(params, population_size, connectivity, environment)\n"
   ]
  },
  {
   "cell_type": "code",
   "execution_count": null,
   "metadata": {},
   "outputs": [],
   "source": [
    "# Plot initial model (no selection has occurred yet)\n",
    "evo.plot_popgen(mod)"
   ]
  },
  {
   "cell_type": "markdown",
   "metadata": {},
   "source": [
    "Run your model and visualize the results:"
   ]
  },
  {
   "cell_type": "code",
   "execution_count": null,
   "metadata": {},
   "outputs": [],
   "source": [
    "mod.walk(100)\n",
    "evo.plot_popgen(mod)"
   ]
  },
  {
   "cell_type": "markdown",
   "metadata": {},
   "source": []
  }
 ],
 "metadata": {
  "kernelspec": {
   "display_name": "Python 3",
   "language": "python",
   "name": "python3"
  },
  "language_info": {
   "codemirror_mode": {
    "name": "ipython",
    "version": 3
   },
   "file_extension": ".py",
   "mimetype": "text/x-python",
   "name": "python",
   "nbconvert_exporter": "python",
   "pygments_lexer": "ipython3",
   "version": "3.12.7"
  }
 },
 "nbformat": 4,
 "nbformat_minor": 2
}
